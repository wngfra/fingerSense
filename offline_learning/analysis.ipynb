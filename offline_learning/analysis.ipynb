{
 "cells": [
  {
   "cell_type": "markdown",
   "id": "3ed46178",
   "metadata": {},
   "source": [
    "# Prepare custom dataset"
   ]
  },
  {
   "cell_type": "code",
   "execution_count": 18,
   "id": "9559f5c8",
   "metadata": {
    "scrolled": true
   },
   "outputs": [],
   "source": [
    "from base import Normalize, ToFDA, TacDataset\n",
    "from torchvision import transforms\n",
    "\n",
    "transform = transforms.Compose([Normalize(axis=0), ToFDA(flatten=False)])\n",
    "ds = TacDataset('../data', transform=transform)"
   ]
  },
  {
   "cell_type": "markdown",
   "id": "77c47480",
   "metadata": {},
   "source": [
    "# Plot raw data"
   ]
  },
  {
   "cell_type": "code",
   "execution_count": 24,
   "id": "22e4af72",
   "metadata": {
    "scrolled": true
   },
   "outputs": [
    {
     "ename": "TypeError",
     "evalue": "__init__() got an unexpected keyword argument 'nbasis'",
     "output_type": "error",
     "traceback": [
      "\u001b[0;31m---------------------------------------------------------------------------\u001b[0m",
      "\u001b[0;31mTypeError\u001b[0m                                 Traceback (most recent call last)",
      "\u001b[0;32m<ipython-input-24-ea5aae5c9dea>\u001b[0m in \u001b[0;36m<module>\u001b[0;34m\u001b[0m\n\u001b[1;32m      8\u001b[0m \u001b[0;32mimport\u001b[0m \u001b[0mnumpy\u001b[0m \u001b[0;32mas\u001b[0m \u001b[0mnp\u001b[0m\u001b[0;34m\u001b[0m\u001b[0;34m\u001b[0m\u001b[0m\n\u001b[1;32m      9\u001b[0m \u001b[0;34m\u001b[0m\u001b[0m\n\u001b[0;32m---> 10\u001b[0;31m \u001b[0mbase\u001b[0m \u001b[0;34m=\u001b[0m \u001b[0mbasis\u001b[0m\u001b[0;34m.\u001b[0m\u001b[0mFourier\u001b[0m\u001b[0;34m(\u001b[0m\u001b[0mnbasis\u001b[0m\u001b[0;34m=\u001b[0m\u001b[0;36m33\u001b[0m\u001b[0;34m)\u001b[0m\u001b[0;34m\u001b[0m\u001b[0;34m\u001b[0m\u001b[0m\n\u001b[0m\u001b[1;32m     11\u001b[0m \u001b[0;34m\u001b[0m\u001b[0m\n\u001b[1;32m     12\u001b[0m \u001b[0;32mfor\u001b[0m \u001b[0mi\u001b[0m\u001b[0;34m,\u001b[0m \u001b[0;34m(\u001b[0m\u001b[0msample\u001b[0m\u001b[0;34m,\u001b[0m \u001b[0mlabel\u001b[0m\u001b[0;34m)\u001b[0m \u001b[0;32min\u001b[0m \u001b[0menumerate\u001b[0m\u001b[0;34m(\u001b[0m\u001b[0mds\u001b[0m\u001b[0;34m)\u001b[0m\u001b[0;34m:\u001b[0m\u001b[0;34m\u001b[0m\u001b[0;34m\u001b[0m\u001b[0m\n",
      "\u001b[0;31mTypeError\u001b[0m: __init__() got an unexpected keyword argument 'nbasis'"
     ]
    }
   ],
   "source": [
    "import pandas as pd\n",
    "from numpy.fft import fft\n",
    "from matplotlib import pyplot as plt\n",
    "from sklearn.manifold import TSNE\n",
    "\n",
    "from skfda import FDataGrid\n",
    "from skfda.representation import basis\n",
    "import numpy as np\n",
    "\n",
    "base = basis.Fourier(nbasis=33)\n",
    "\n",
    "for i, (sample, label) in enumerate(ds):\n",
    "    if i == 28:\n",
    "        print(sample.shape)"
   ]
  },
  {
   "cell_type": "code",
   "execution_count": 27,
   "id": "71542a9f",
   "metadata": {},
   "outputs": [
    {
     "data": {
      "text/plain": [
       "Fourier(domain_range=((0, 1),), n_basis=3, period=1)"
      ]
     },
     "execution_count": 27,
     "metadata": {},
     "output_type": "execute_result"
    }
   ],
   "source": [
    "basis.Fourier()"
   ]
  },
  {
   "cell_type": "markdown",
   "id": "c8160fc8",
   "metadata": {},
   "source": [
    "# Compress data with Tucker decomposition\n",
    "1. Compute covariance matrix for each multi-channel frequency series\n",
    "2. Stack covariance matrix into a 3D covariance tensor $T \\in \\mathbb{R}^{C \\times C \\times N}$\n",
    "3. Use core tensor $\\mathcal{G}$ of the Tucker decomposition $T = \\mathcal{G} \\times_1 U_1 \\times_2 U_2 \\times_3 U_3$ as a compressed representation\n",
    "4. Visualize the latent vectors"
   ]
  },
  {
   "cell_type": "code",
   "execution_count": 3,
   "id": "0ea65e27",
   "metadata": {},
   "outputs": [
    {
     "ename": "ModuleNotFoundError",
     "evalue": "No module named 'tensorly'",
     "output_type": "error",
     "traceback": [
      "\u001b[0;31m---------------------------------------------------------------------------\u001b[0m",
      "\u001b[0;31mModuleNotFoundError\u001b[0m                       Traceback (most recent call last)",
      "\u001b[0;32m<ipython-input-3-d7278e91c36e>\u001b[0m in \u001b[0;36m<module>\u001b[0;34m\u001b[0m\n\u001b[1;32m      6\u001b[0m \u001b[0;32mfrom\u001b[0m \u001b[0mskfda\u001b[0m \u001b[0;32mimport\u001b[0m \u001b[0mFDataGrid\u001b[0m\u001b[0;34m\u001b[0m\u001b[0;34m\u001b[0m\u001b[0m\n\u001b[1;32m      7\u001b[0m \u001b[0;32mfrom\u001b[0m \u001b[0mskfda\u001b[0m\u001b[0;34m.\u001b[0m\u001b[0mrepresentation\u001b[0m \u001b[0;32mimport\u001b[0m \u001b[0mbasis\u001b[0m\u001b[0;34m\u001b[0m\u001b[0;34m\u001b[0m\u001b[0m\n\u001b[0;32m----> 8\u001b[0;31m \u001b[0;32mfrom\u001b[0m \u001b[0mtensorly\u001b[0m\u001b[0;34m.\u001b[0m\u001b[0mdecomposition\u001b[0m \u001b[0;32mimport\u001b[0m \u001b[0mnon_negative_tucker\u001b[0m\u001b[0;34m,\u001b[0m \u001b[0mtucker\u001b[0m\u001b[0;34m\u001b[0m\u001b[0;34m\u001b[0m\u001b[0m\n\u001b[0m\u001b[1;32m      9\u001b[0m \u001b[0;32mfrom\u001b[0m \u001b[0mtensorly\u001b[0m\u001b[0;34m.\u001b[0m\u001b[0mtenalg\u001b[0m \u001b[0;32mimport\u001b[0m \u001b[0mmode_dot\u001b[0m\u001b[0;34m\u001b[0m\u001b[0;34m\u001b[0m\u001b[0m\n\u001b[1;32m     10\u001b[0m \u001b[0;34m\u001b[0m\u001b[0m\n",
      "\u001b[0;31mModuleNotFoundError\u001b[0m: No module named 'tensorly'"
     ]
    }
   ],
   "source": [
    "import matplotlib.pyplot as plt\n",
    "import numpy as np\n",
    "import pandas as pd\n",
    "from mpl_toolkits.mplot3d import Axes3D\n",
    "from numpy.fft import fft\n",
    "from skfda import FDataGrid\n",
    "from skfda.representation import basis\n",
    "from tensorly.decomposition import non_negative_tucker, tucker\n",
    "from tensorly.tenalg import mode_dot\n",
    "\n",
    "plt.rcParams['figure.dpi'] = 150\n",
    "%matplotlib notebook\n",
    "\n",
    "N_BASIS = 65\n",
    "STRIDE = 128\n",
    "WINDOW_SIZE = 256\n",
    "RANK = 3\n",
    "\n",
    "fd_basis = basis.Fourier([0, 2 * np.pi], n_basis=N_BASIS, period=1)\n",
    "\n",
    "def compute_cov_fda(data):\n",
    "    ''' Compute covariance matrix with functional basis decomposition.'''\n",
    "    fd = FDataGrid(data.T).to_basis(fd_basis)\n",
    "    coeffs = fd.coefficients.squeeze()\n",
    "    return np.cov(coeffs[:, 1:].T)\n",
    "\n",
    "cov_array = []\n",
    "labels, params = [], []\n",
    "\n",
    "for sample, label in ds:\n",
    "    cov_array.append(compute_cov_fda(sample))\n",
    "    labels.append(ds.get_texture_name(label[0]))\n",
    "    params.append(labels[1:])\n",
    "    \n",
    "cov_tensor = np.transpose(np.asarray(cov_array), [1, 2, 0])\n",
    "_, factors = non_negative_tucker(cov_tensor, rank=(RANK, RANK, cov_tensor.shape[2]))\n",
    "covM = mode_dot(cov_tensor, factors[1].T, 1)\n",
    "covM = mode_dot(covM, factors[0].T, 0)\n",
    "covM = covM.reshape(RANK * RANK, len(labels)).T\n",
    "M = (covM - np.min(covM))/(np.max(covM) - np.min(covM)) * 255"
   ]
  },
  {
   "cell_type": "code",
   "execution_count": null,
   "id": "216cea70",
   "metadata": {
    "scrolled": false
   },
   "outputs": [],
   "source": [
    "M3d = M[:, :3]\n",
    "\n",
    "df0 = pd.DataFrame(labels, columns=[\"texture\"])\n",
    "df1 = pd.DataFrame(params, columns=[\"pressure\", \"speed\"])\n",
    "df2 = pd.DataFrame(M3d, columns=[\"x1\", \"x2\", \"x3\"])\n",
    "df  = pd.concat([df0, df1, df2], axis=1)\n",
    "\n",
    "textures = df[\"texture\"].unique()\n",
    "pressures = df[\"pressure\"].unique()\n",
    "speeds = df[\"speed\"].unique()\n",
    "cmap = plt.cm.get_cmap(\"plasma\", len(textures))\n",
    "\n",
    "fig = plt.figure()\n",
    "ax = fig.add_subplot(1, 1, 1, projection='3d')\n",
    "\n",
    "for i, texture in enumerate(textures):\n",
    "    X = df[df[\"texture\"] == texture]\n",
    "    x1, x2, x3 = X['x1'], X['x2'], X['x3'] \n",
    "    ax.scatter(x1, x2, x3, s=20, c=np.tile(cmap(i), (len(x1), 1)))\n",
    "    ax.legend(textures)\n",
    "\n",
    "plt.show()"
   ]
  },
  {
   "cell_type": "code",
   "execution_count": null,
   "id": "6a95c557",
   "metadata": {},
   "outputs": [],
   "source": [
    "from sklearn import neighbors, datasets\n",
    "\n",
    "n_neighbors = 10\n",
    "train_ratio = 0.7\n",
    "\n",
    "y = np.array(labels)\n",
    "index = np.arange(len(y), dtype=int)\n",
    "np.random.shuffle(index)\n",
    "train_id = index[:int(train_ratio * len(index))]\n",
    "\n",
    "clf = neighbors.KNeighborsClassifier(n_neighbors, weights=\"distance\")\n",
    "clf.fit(M[train_id, :], y[train_id])\n",
    "rate = np.sum(clf.predict(M) == y)/len(y)\n",
    "print(\"Classification accuracy: {:.2f}%\".format(rate * 100))"
   ]
  },
  {
   "cell_type": "markdown",
   "id": "674033ed",
   "metadata": {},
   "source": [
    "# Train the network"
   ]
  },
  {
   "cell_type": "code",
   "execution_count": null,
   "id": "9a3e3a96",
   "metadata": {},
   "outputs": [],
   "source": [
    "import matplotlib.pyplot as plt\n",
    "import torch\n",
    "from ml_base import RVAE\n",
    "from torch import optim\n",
    "from torch.utils.data import DataLoader\n",
    "\n",
    "BATCH_SIZE = 2\n",
    "EPOCHS = 100\n",
    "INPUT_DIM = 1\n",
    "NUM_CLASS = 4\n",
    "\n",
    "device = torch.device('cuda:0') if torch.cuda.is_available() else torch.device('cpu')\n",
    "\n",
    "train_loader = DataLoader(ds, batch_size=BATCH_SIZE, collate_fn=PadSequence(), num_workers=6, shuffle=True)\n",
    "rvae = RVAE(input_dim=INPUT_DIM, hidden_dim=16, encoding_dim=3, extra_dim=2, output_dim=NUM_CLASS, n_layers=3, device=device)\n",
    "loss_list = []\n",
    "\n",
    "def train_once(x, y, model, optimizer, criterion):\n",
    "    optimizer.zero_grad()\n",
    "    output = model(x)\n",
    "    target = y.to(device)\n",
    "    loss = criterion(output, target)\n",
    "    loss.backward()\n",
    "    optimizer.step()\n",
    "    \n",
    "    return loss.item()\n",
    "    \n",
    "def train_model(data_loader, model):\n",
    "    optimizer = optim.SGD(model.parameters(), lr = 1e-3)\n",
    "    criterion = nn.CrossEntropyLoss()\n",
    "    # loss_list = []\n",
    "    \n",
    "    for epoch in range(EPOCHS):\n",
    "        running_loss = 0.0\n",
    "        \n",
    "        for i, (batch, lengths, params, targets) in enumerate(data_loader):\n",
    "            loss = train_once((batch, lengths, params), targets, model, optimizer, criterion)\n",
    "            running_loss += loss\n",
    "            loss_list.append(loss)\n",
    "            \n",
    "            if i % 10 == 9:\n",
    "                print('Epoch {}, {:.2f}% - loss: {:.6f}'.format(epoch + 1, 100.0 * (i + 1.0) / len(data_loader), running_loss / 10))\n",
    "                running_loss = 0.0\n",
    "                \n",
    "    print(\"Training finished.\")\n",
    "    plt.figure()\n",
    "    plt.plot(loss_list)\n",
    "    plt.title(\"Training Recurrent Autoencoder\")\n",
    "    plt.xlabel(\"Run\")\n",
    "    plt.ylabel(\"Loss\")\n",
    "    plt.show()\n",
    "    \n",
    "train_model(train_loader, rvae)"
   ]
  }
 ],
 "metadata": {
  "kernelspec": {
   "display_name": "Python 3",
   "language": "python",
   "name": "python3"
  },
  "language_info": {
   "codemirror_mode": {
    "name": "ipython",
    "version": 3
   },
   "file_extension": ".py",
   "mimetype": "text/x-python",
   "name": "python",
   "nbconvert_exporter": "python",
   "pygments_lexer": "ipython3",
   "version": "3.8.8"
  }
 },
 "nbformat": 4,
 "nbformat_minor": 5
}
